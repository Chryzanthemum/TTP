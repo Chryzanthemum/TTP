{
 "cells": [
  {
   "cell_type": "markdown",
   "metadata": {
    "_cell_guid": "e6eca26c-f9cb-4e1d-a167-60fee893e9c7",
    "_uuid": "7b9a982e0c4abfa54063ac4b9c6e7dc9bfc2ba50"
   },
   "source": [
    "## Enriching NCAATourneyDetailedResults.csv with Advanced Stats\n",
    "\n",
    "#### If the opponents of a team score only 75.2 points on average, it could be more about the pace at which the team played instead of their skill on the defensive end. \n",
    "\n",
    "### The given Box score numbers are an incomplete standard of a team's performance. \n",
    "\n",
    "**Advanced Metrics ** in basketball provide a deeper understanding of a team's performance.\n",
    "\n",
    "**Possession** is used to normalize basketball statistics - offensive/defensive efficiency and other metrics are all based on how the possession is calculated. Team performance should be measured on a per-possession basis.  \n",
    "\n",
    "> Possession =0.96*[(Field Goal Attempts)+(Turnovers)+0.44*(Free Throw Attempts)-(Off.Rebounds)]\n",
    "\n",
    "\n",
    "##### (Notice: Possession values are not calculated by using Play-By-Play data, as it seems like they do not necessarily add up to the final stats of the game and an estimation will do just fine)\n",
    "\n",
    "For more information [click here](https://www.nbastuffer.com/analytics101/possession/)\n",
    "\n",
    "### Now let's add some new features that can acutally be used for predictive modelling and ranking a team.\n"
   ]
  },
  {
   "cell_type": "code",
   "execution_count": 1,
   "metadata": {
    "_cell_guid": "b67c1bc2-e5ce-4add-9888-0955136b092c",
    "_uuid": "ced0463ef72675e95233618e27181bde56fb65c5",
    "collapsed": true,
    "scrolled": true
   },
   "outputs": [],
   "source": [
    "import numpy as np \n",
    "import pandas as pd \n",
    "import matplotlib.pyplot as plt\n",
    "from math import pi\n",
    "import xgboost as xgb\n",
    "from sklearn import *\n",
    "\n",
    "df = pd.read_csv('../input/RegularSeasonDetailedResults.csv')\n",
    "\n",
    "#Points Winning/Losing Team\n",
    "df['WPts'] = df.apply(lambda row: 2*row.WFGM + row.WFGM3 + row.WFTM, axis=1)\n",
    "df['LPts'] = df.apply(lambda row: 2*row.LFGM + row.LFGM3 + row.LFTM, axis=1)\n",
    "\n",
    "#Calculate Winning/losing Team Possesion Feature\n",
    "wPos = df.apply(lambda row: 0.96*(row.WFGA + row.WTO + 0.44*row.WFTA - row.WOR), axis=1)\n",
    "lPos = df.apply(lambda row: 0.96*(row.LFGA + row.LTO + 0.44*row.LFTA - row.LOR), axis=1)\n",
    "#two teams use almost the same number of possessions in a game\n",
    "#(plus/minus one or two - depending on how quarters end)\n",
    "#so let's just take the average\n",
    "df['Pos'] = (wPos+lPos)/2"
   ]
  },
  {
   "cell_type": "markdown",
   "metadata": {
    "_cell_guid": "173212ce-dccd-40dc-a0f1-b612922c31aa",
    "_uuid": "f8dceddce33b374e9d3d6fea8f1e02ca12cf7222"
   },
   "source": [
    "### Advanced Metrics"
   ]
  },
  {
   "cell_type": "code",
   "execution_count": null,
   "metadata": {
    "_cell_guid": "53cc3044-f25c-4ec4-aaca-2b532b31ded7",
    "_uuid": "36f7ff457cf80f3891d372cd38ce516be3e24cf1",
    "collapsed": true
   },
   "outputs": [],
   "source": [
    "df['DayNum'].describe()"
   ]
  },
  {
   "cell_type": "code",
   "execution_count": null,
   "metadata": {
    "_cell_guid": "804047f8-32b8-4266-aad8-3386883ac567",
    "_kg_hide-input": false,
    "_kg_hide-output": false,
    "_uuid": "9405211c539409a62a07177e1522d447a5c4afd0",
    "collapsed": true
   },
   "outputs": [],
   "source": [
    "#Offensive efficiency (OffRtg) = 100 x (Points / Possessions)\n",
    "df['WOffRtg'] = df.apply(lambda row: 100 * (row.WPts / row.Pos), axis=1)\n",
    "df['LOffRtg'] = df.apply(lambda row: 100 * (row.LPts / row.Pos), axis=1)\n",
    "#Defensive efficiency (DefRtg) = 100 x (Opponent points / Opponent possessions)\n",
    "df['WDefRtg'] = df.LOffRtg\n",
    "df['LDefRtg'] = df.WOffRtg\n",
    "#Net Rating = Off.eff - Def.eff\n",
    "df['WNetRtg'] = df.apply(lambda row:(row.WOffRtg - row.WDefRtg), axis=1)\n",
    "df['LNetRtg'] = df.apply(lambda row:(row.LOffRtg - row.LDefRtg), axis=1)\n",
    "                         \n",
    "#Assist Ratio : Percentage of team possessions that end in assists\n",
    "df['WAstR'] = df.apply(lambda row: 100 * row.WAst / (row.WFGA + 0.44*row.WFTA + row.WAst + row.WTO), axis=1)\n",
    "df['LAstR'] = df.apply(lambda row: 100 * row.LAst / (row.LFGA + 0.44*row.LFTA + row.LAst + row.LTO), axis=1)\n",
    "#Turnover Ratio: Number of turnovers of a team per 100 possessions used.\n",
    "#(TO * 100) / (FGA + (FTA * 0.44) + AST + TO\n",
    "df['WTOR'] = df.apply(lambda row: 100 * row.LAst / (row.LFGA + 0.44*row.LFTA + row.LAst + row.LTO), axis=1)\n",
    "df['LTOR'] = df.apply(lambda row: 100 * row.LAst / (row.LFGA + 0.44*row.LFTA + row.LAst + row.LTO), axis=1)\n",
    "                    \n",
    "#The Shooting Percentage : Measure of Shooting Efficiency (FGA/FGA3, FTA)\n",
    "df['WTSP'] = df.apply(lambda row: 100 * row.WPts / (2 * (row.WFGA + 0.44 * row.WFTA)), axis=1)\n",
    "df['LTSP'] = df.apply(lambda row: 100 * row.LPts / (2 * (row.LFGA + 0.44 * row.LFTA)), axis=1)\n",
    "#eFG% : Effective Field Goal Percentage adjusting for the fact that 3pt shots are more valuable \n",
    "df['WeFGP'] = df.apply(lambda row:(row.WFGM + 0.5 * row.WFGM3) / row.WFGA, axis=1)      \n",
    "df['LeFGP'] = df.apply(lambda row:(row.LFGM + 0.5 * row.LFGM3) / row.LFGA, axis=1)   \n",
    "#FTA Rate : How good a team is at drawing fouls.\n",
    "df['WFTAR'] = df.apply(lambda row: row.WFTA / row.WFGA, axis=1)\n",
    "df['LFTAR'] = df.apply(lambda row: row.LFTA / row.LFGA, axis=1)\n",
    "                         \n",
    "#OREB% : Percentage of team offensive rebounds\n",
    "df['WORP'] = df.apply(lambda row: row.WOR / (row.WOR + row.LDR), axis=1)\n",
    "df['LORP'] = df.apply(lambda row: row.LOR / (row.LOR + row.WDR), axis=1)\n",
    "#DREB% : Percentage of team defensive rebounds\n",
    "df['WDRP'] = df.apply(lambda row: row.WDR / (row.WDR + row.LOR), axis=1)\n",
    "df['LDRP'] = df.apply(lambda row: row.LDR / (row.LDR + row.WOR), axis=1)                                      \n",
    "#REB% : Percentage of team total rebounds\n",
    "df['WRP'] = df.apply(lambda row: (row.WDR + row.WOR) / (row.WDR + row.WOR + row.LDR + row.LOR), axis=1)\n",
    "df['LRP'] = df.apply(lambda row: (row.LDR + row.WOR) / (row.WDR + row.WOR + row.LDR + row.LOR), axis=1) \n"
   ]
  },
  {
   "cell_type": "markdown",
   "metadata": {
    "_cell_guid": "315b4dc2-5638-4a1b-bb0c-d90b4b2c6959",
    "_uuid": "13c6b98b314a55ecdb4f13e730072976fbaec739"
   },
   "source": [
    "#### PIE : Measure of a team's performance\n",
    "\n",
    "> *A high PIE % is highly correlated to winning. In fact, a team’s PIE rating and a team’s winning percentage correlate at an R square of .908 which indicates a \"strong\" correlation*\n",
    "\n",
    "from the official site of the [NBA](https://stats.nba.com/help/glossary/)"
   ]
  },
  {
   "cell_type": "code",
   "execution_count": null,
   "metadata": {
    "_cell_guid": "158662a2-c4b5-4795-bc90-4af1fb4bc858",
    "_kg_hide-input": true,
    "_uuid": "9099f8a338afa200e6df4183748d23f14ea0285f",
    "collapsed": true
   },
   "outputs": [],
   "source": [
    "df['WPIE'] = df.apply(lambda row: (row.WDR + row.WOR) / (row.WDR + row.WOR + row.LDR + row.LOR), axis=1)\n",
    "wtmp = df.apply(lambda row: row.WPts + row.WFGM + row.WFTM - row.WFGA - row.WFTA + row.WDR + 0.5*row.WOR + row.WAst +row.WStl + 0.5*row.WBlk - row.WPF - row.WTO, axis=1)\n",
    "ltmp = df.apply(lambda row: row.LPts + row.LFGM + row.LFTM - row.LFGA - row.LFTA + row.LDR + 0.5*row.LOR + row.LAst +row.LStl + 0.5*row.LBlk - row.LPF - row.LTO, axis=1) \n",
    "df['WPIE'] = wtmp/(wtmp + ltmp)\n",
    "df['LPIE'] = ltmp/(wtmp + ltmp)"
   ]
  },
  {
   "cell_type": "code",
   "execution_count": null,
   "metadata": {
    "_cell_guid": "118cb8a6-9ece-4807-aa9c-81fbb5dda600",
    "_uuid": "09e5c07e57b7538d963fdb6937251ecfe2c6c974",
    "collapsed": true
   },
   "outputs": [],
   "source": [
    "\n",
    "#Now let's consolidate - I've literally never read a style guide in my life\n",
    "dfwins = df[['Season', 'WTeamID', 'WNetRtg', 'WPIE']]\n",
    "dfwins.rename(index=str, columns={\"WTeamID\": \"TeamID\",\"WNetRtg\": \"NetRtg\", \"WPIE\": \"PIE\"}, inplace = True)\n",
    "dflosses = df[['Season','LTeamID', 'LNetRtg','LPIE']]\n",
    "dflosses.rename(index=str, columns={\"LTeamID\": \"TeamID\",\"LNetRtg\": \"NetRtg\",\"LPIE\": \"PIE\"}, inplace = True)\n",
    "\n",
    "dfadvanced = dfwins.append(dflosses)\n",
    "dfadvanced = dfadvanced.groupby(['Season', 'TeamID']).agg({\"NetRtg\":\"mean\", \"PIE\":\"mean\"}).reset_index()\n"
   ]
  },
  {
   "cell_type": "code",
   "execution_count": 7,
   "metadata": {
    "_cell_guid": "3eba7e89-22e4-4787-a91a-d9570d321759",
    "_uuid": "793f16910937e28bab741bb80c41554d5811ac5b",
    "collapsed": true
   },
   "outputs": [],
   "source": [
    "#data\n",
    "games = pd.read_csv('../input/NCAATourneyCompactResults.csv')\n"
   ]
  },
  {
   "cell_type": "code",
   "execution_count": 9,
   "metadata": {
    "_cell_guid": "5b9ba65f-af8b-41ce-93a1-f96f6cf5b107",
    "_uuid": "4cc731e3dca34018cc181b70b75aed50ddb16da9",
    "collapsed": true
   },
   "outputs": [],
   "source": [
    "games.head()"
   ]
  },
  {
   "cell_type": "code",
   "execution_count": null,
   "metadata": {
    "_cell_guid": "c2f8570a-7158-40e4-9b6e-6330667771aa",
    "_uuid": "ec4dfba7f4546e6b984e3b40d82aa3b9f53a22f7",
    "collapsed": true
   },
   "outputs": [],
   "source": [
    "#Add Ids\n",
    "games['ID'] = games.apply(lambda r: '_'.join(map(str, [r['Season']]+sorted([r['WTeamID'],r['LTeamID']]))), axis=1)\n",
    "games['IDTeams'] = games.apply(lambda r: '_'.join(map(str, sorted([r['WTeamID'],r['LTeamID']]))), axis=1)\n",
    "games['Team1'] = games.apply(lambda r: sorted([r['WTeamID'],r['LTeamID']])[0], axis=1)\n",
    "games['Team2'] = games.apply(lambda r: sorted([r['WTeamID'],r['LTeamID']])[1], axis=1)\n",
    "games['IDTeam1'] = games.apply(lambda r: '_'.join(map(str, [r['Season'], r['Team1']])), axis=1)\n",
    "games['IDTeam2'] = games.apply(lambda r: '_'.join(map(str, [r['Season'], r['Team2']])), axis=1)\n"
   ]
  },
  {
   "cell_type": "code",
   "execution_count": null,
   "metadata": {
    "_cell_guid": "6d16cb41-db8f-48af-bf5d-711043bc19de",
    "_uuid": "ac73e3749fff5794570109aaa812216964ad5f40",
    "collapsed": true
   },
   "outputs": [],
   "source": [
    "#Add Seeds\n",
    "seeds = pd.read_csv('../input/NCAATourneySeeds.csv')\n",
    "seeds = {'_'.join(map(str,[int(k1),k2])):int(v[1:3]) for k1, v, k2 in seeds.values}\n",
    "#add 2018 Seeds\n",
    "#seeds = {**seeds, **{k.replace('1999_','1998_'):seeds[k] for k in seeds if '1999_' in k}}\n",
    "\n",
    "games['Team1Seed'] = games['IDTeam1'].map(seeds).fillna(0)\n",
    "games['Team2Seed'] = games['IDTeam2'].map(seeds).fillna(0)\n"
   ]
  },
  {
   "cell_type": "code",
   "execution_count": null,
   "metadata": {
    "_cell_guid": "e7bf9312-b3bc-45a3-bcfd-be1358dc7850",
    "_uuid": "b82b696c31263ec744c255588efdcba6f9ccbc3a",
    "collapsed": true
   },
   "outputs": [],
   "source": [
    "\n",
    "#Additional Features & Clean Up\n",
    "games['ScoreDiff'] = games['WScore'] - games['LScore'] \n",
    "games['Pred'] = games.apply(lambda r: 1. if sorted([r['WTeamID'],r['LTeamID']])[0]==r['WTeamID'] else 0., axis=1)\n",
    "games['ScoreDiffNorm'] = games.apply(lambda r: r['ScoreDiff'] * -1 if r['Pred'] == 0. else r['ScoreDiff'], axis=1)\n",
    "games['SeedDiff'] = games['Team1Seed'] - games['Team2Seed'] \n",
    "games = games.fillna(-1)\n",
    "\n",
    "sdn = games.groupby(['IDTeams'], as_index=False)[['ScoreDiffNorm']].mean()\n"
   ]
  },
  {
   "cell_type": "code",
   "execution_count": null,
   "metadata": {
    "_cell_guid": "e947fb5b-220a-47e0-954e-df4bb4fe16ed",
    "_uuid": "d3511356ce002cf6a25aed7817ffc39b238a43df",
    "collapsed": true
   },
   "outputs": [],
   "source": [
    "\n",
    "#Test Set\n",
    "sub = pd.read_csv('../input/SampleSubmissionStage2.csv')\n",
    "sub['Season'] = sub['ID'].map(lambda x: x.split('_')[0])\n",
    "sub['Team1'] = sub['ID'].map(lambda x: x.split('_')[1])\n",
    "sub['Team2'] = sub['ID'].map(lambda x: x.split('_')[2])\n",
    "sub['IDTeams'] = sub.apply(lambda r: '_'.join(map(str, [r['Team1'], r['Team2']])), axis=1)\n",
    "sub['IDTeam1'] = sub.apply(lambda r: '_'.join(map(str, [r['Season'], r['Team1']])), axis=1)\n",
    "sub['IDTeam2'] = sub.apply(lambda r: '_'.join(map(str, [r['Season'], r['Team2']])), axis=1)\n",
    "sub['Team1Seed'] = sub['IDTeam1'].map(seeds).fillna(0)\n",
    "sub['Team2Seed'] = sub['IDTeam2'].map(seeds).fillna(0)\n",
    "sub = pd.merge(sub, sdn, how='left', on=['IDTeams'])\n",
    "sub['ScoreDiffNorm'] = sub['ScoreDiffNorm'].fillna(0.)\n",
    "sub['SeedDiff'] = sub['Team1Seed'] - sub['Team2Seed'] \n"
   ]
  },
  {
   "cell_type": "code",
   "execution_count": null,
   "metadata": {
    "_cell_guid": "cb1b823e-3ed3-4ba3-8de5-c85b57acb8a2",
    "_uuid": "39396e77731d8e059abdcbda5f1617e989981ebf",
    "collapsed": true,
    "scrolled": true
   },
   "outputs": [],
   "source": [
    "games.head()"
   ]
  },
  {
   "cell_type": "code",
   "execution_count": null,
   "metadata": {
    "_cell_guid": "36ae3b49-bb8e-427e-a76b-cb9806108680",
    "_uuid": "e9cbc37736a7b3bfdd85e98e4adc0f40cb39adbc",
    "collapsed": true
   },
   "outputs": [],
   "source": [
    "sub.head()"
   ]
  },
  {
   "cell_type": "code",
   "execution_count": null,
   "metadata": {
    "_cell_guid": "c512a5e4-2c60-473b-8a4c-1190badd23a3",
    "_uuid": "efb74579e9309d420060fd7c6812aff93c130017",
    "collapsed": true
   },
   "outputs": [],
   "source": [
    "games2 = games[['Season', 'ID', 'Team1', 'Team2', 'Team1Seed', 'Team2Seed', 'Pred']]\n",
    "games2 = games2.merge(dfadvanced, left_on =['Season', 'Team1'], right_on = ['Season', 'TeamID'], how='inner')\n",
    "games2.drop(['TeamID'], axis=1, inplace=True)\n",
    "games2.rename(index=str, columns={\"NetRtg\": \"Team1NetRtg\", \"PIE\": \"Team1PIE\"}, inplace = True)\n",
    "games2 = games2.merge(dfadvanced, left_on =['Season', 'Team2'], right_on = ['Season', 'TeamID'], how='inner')\n",
    "games2.drop(['TeamID'], axis=1, inplace=True)\n",
    "games2.rename(index=str, columns={\"NetRtg\": \"Team2NetRtg\", \"PIE\": \"Team2PIE\"}, inplace = True)\n"
   ]
  },
  {
   "cell_type": "code",
   "execution_count": null,
   "metadata": {
    "_cell_guid": "53eb4055-5529-4197-be69-9a812e4bfa0c",
    "_uuid": "83b8abcb1cb0dd713d0bbabbed422fcf297c0a13",
    "collapsed": true
   },
   "outputs": [],
   "source": [
    "df_rankings = pd.read_csv('../input/MasseyOrdinals.csv')\n",
    "df_RPI = df_rankings[df_rankings['SystemName'] == 'RPI']\n",
    "df_RPI_final = df_RPI[df_RPI['RankingDayNum'] == 133]\n",
    "df_RPI_final.drop(labels=['RankingDayNum', 'SystemName'], inplace=True, axis=1)\n",
    "df_RPI_final.head()"
   ]
  },
  {
   "cell_type": "code",
   "execution_count": null,
   "metadata": {
    "_cell_guid": "e1aafbd8-41cd-46a0-9263-30df70d41e55",
    "_uuid": "8aee1bf396b23953d115ebd50d5533e4c9be9dc0",
    "collapsed": true
   },
   "outputs": [],
   "source": [
    "games2 = games2.merge(df_RPI_final, left_on =['Season', 'Team1'], right_on = ['Season', 'TeamID'], how='inner')\n",
    "games2.drop(['TeamID'], axis=1, inplace=True)\n",
    "games2.rename(index=str, columns={\"OrdinalRank\": \"Team1OrdinalRank\"}, inplace = True)\n",
    "games2 = games2.merge(df_RPI_final, left_on =['Season', 'Team2'], right_on = ['Season', 'TeamID'], how='inner')\n",
    "games2.drop(['TeamID'], axis=1, inplace=True)\n",
    "games2.rename(index=str, columns={\"OrdinalRank\": \"Team2OrdinalRank\"}, inplace = True)"
   ]
  },
  {
   "cell_type": "code",
   "execution_count": null,
   "metadata": {
    "_cell_guid": "4f15d5bb-951d-4594-8a8c-3e867fed965c",
    "_uuid": "5b91efd25cc332567e207b3013fd09fa7f2a939c",
    "collapsed": true
   },
   "outputs": [],
   "source": [
    "games2['Team1Seed'].replace(0, 20, inplace=True)\n",
    "games2['Team2Seed'].replace(0, 20, inplace=True)\n",
    "games2['SeedDiff'] = games2['Team1Seed'] - games2['Team2Seed']\n",
    "games2['PIEDiff'] = games2['Team1PIE'] - games2['Team2PIE']\n",
    "games2['NetRtgDiff'] = games2['Team1NetRtg'] - games2['Team2NetRtg']\n",
    "games2['OrdinalRankDiff'] = games2['Team1OrdinalRank'] - games2['Team2OrdinalRank']\n",
    "#games2 = games2[games2['Season']<2014]"
   ]
  },
  {
   "cell_type": "code",
   "execution_count": null,
   "metadata": {
    "_cell_guid": "5b20ae2c-303d-406c-b65b-616511f62a4e",
    "_uuid": "fdb1ae4edb66ca62c6266f917fff3e5fff522a85",
    "collapsed": true
   },
   "outputs": [],
   "source": [
    "games2.head()"
   ]
  },
  {
   "cell_type": "code",
   "execution_count": null,
   "metadata": {
    "_cell_guid": "dc16c235-347a-4af9-90e7-264200636b7c",
    "_uuid": "d4ff64723703e42608cc8c74250bd8ba87461574",
    "collapsed": true
   },
   "outputs": [],
   "source": [
    "\n",
    "sub2 = sub[['Season', 'ID', 'Team1', 'Team2', 'Team1Seed', 'Team2Seed', 'Pred']]\n",
    "sub2['Season'] = pd.to_numeric(sub2['Season'])\n",
    "sub2['Team1'] = pd.to_numeric(sub2['Team1'])\n",
    "sub2['Team2'] = pd.to_numeric(sub2['Team2'])\n",
    "sub2 = sub2.merge(dfadvanced, left_on =['Season', 'Team1'], right_on = ['Season', 'TeamID'], how='left')\n",
    "sub2.drop(['TeamID'], axis=1, inplace=True)"
   ]
  },
  {
   "cell_type": "code",
   "execution_count": null,
   "metadata": {
    "_cell_guid": "07c204c9-539a-4e37-8934-968bbe15cca0",
    "_uuid": "d3633d3c44f69791b2faae8be8868fa0950cdca0",
    "collapsed": true
   },
   "outputs": [],
   "source": [
    "sub2 = sub2.merge(df_RPI_final, left_on =['Season', 'Team1'], right_on = ['Season', 'TeamID'], how='inner')\n",
    "sub2.rename(index=str, columns={\"OrdinalRank\": \"Team1OrdinalRank\"}, inplace = True)\n",
    "sub2.drop(['TeamID'], axis=1, inplace=True)\n",
    "sub2 = sub2.merge(df_RPI_final, left_on =['Season', 'Team2'], right_on = ['Season', 'TeamID'], how='inner')\n",
    "sub2.drop(['TeamID'], axis=1, inplace=True)\n",
    "sub2.rename(index=str, columns={\"OrdinalRank\": \"Team2OrdinalRank\"}, inplace = True)"
   ]
  },
  {
   "cell_type": "code",
   "execution_count": null,
   "metadata": {
    "_cell_guid": "422e6d81-25ff-4595-87bc-c11f1669d8dd",
    "_uuid": "51954f5d480e3bb08ca5bf6dcd060cb39d99b2f2",
    "collapsed": true
   },
   "outputs": [],
   "source": []
  },
  {
   "cell_type": "code",
   "execution_count": null,
   "metadata": {
    "_cell_guid": "51ea783a-eacf-4f57-a4f5-cfa5142a05ec",
    "_uuid": "d898a87da0e79b8adbc4fcab09f08143cefa09d4",
    "collapsed": true
   },
   "outputs": [],
   "source": [
    "sub2.rename(index=str, columns={\"NetRtg\": \"Team1NetRtg\", \"PIE\": \"Team1PIE\"}, inplace = True)\n",
    "sub2 = sub2.merge(dfadvanced, left_on =['Season', 'Team2'], right_on = ['Season', 'TeamID'], how='left')\n",
    "sub2.drop(['TeamID'], axis=1, inplace=True)\n",
    "sub2.rename(index=str, columns={\"NetRtg\": \"Team2NetRtg\", \"PIE\": \"Team2PIE\"}, inplace = True)\n",
    "sub2['Team1Seed'].replace(0, 20, inplace=True)\n",
    "sub2['Team2Seed'].replace(0, 20, inplace=True)\n"
   ]
  },
  {
   "cell_type": "code",
   "execution_count": null,
   "metadata": {
    "_cell_guid": "faf3baea-12ee-482c-ba24-6912844fd970",
    "_uuid": "b0ed53bc82fbbc471e73b465a3acce9278d6c451",
    "collapsed": true
   },
   "outputs": [],
   "source": [
    "sub2['SeedDiff'] = sub2['Team1Seed'] - sub2['Team2Seed']\n",
    "sub2['PIEDiff'] = sub2['Team1PIE'] - sub2['Team2PIE']\n",
    "sub2['NetRtgDiff'] = sub2['Team1NetRtg'] - sub2['Team2NetRtg']\n",
    "sub2['OrdinalRankDiff'] = sub2['Team1OrdinalRank'] - sub2['Team2OrdinalRank']"
   ]
  },
  {
   "cell_type": "code",
   "execution_count": null,
   "metadata": {
    "_cell_guid": "be650dee-8bff-42de-bdf0-9f3f9bff8570",
    "_uuid": "75c665d5e436fc30eda09ceb4006cf09a179883d",
    "collapsed": true
   },
   "outputs": [],
   "source": [
    "games2.tail()"
   ]
  },
  {
   "cell_type": "code",
   "execution_count": null,
   "metadata": {
    "_cell_guid": "ddecb7e6-8ef3-4c42-8570-6f679cb83d11",
    "_uuid": "a7a4960c38c5ec8e1e9b3b6364c9a2740690d1f3",
    "collapsed": true
   },
   "outputs": [],
   "source": [
    "# TrueSkill is a rating system based on Bayesian inference, estimating each players skill as a gaussian like Elo rating.\n",
    "# See trueskill.org for more.\n",
    "\n",
    "#import pandas as pd, numpy as np\n",
    "from trueskill import TrueSkill, Rating, rate_1vs1\n",
    "\n",
    "ts = TrueSkill(draw_probability=0.01) # 0.01 is arbitary small number\n",
    "beta = 25 / 6  # default value\n",
    "\n",
    "def win_probability(p1, p2):\n",
    "    delta_mu = p1.mu - p2.mu\n",
    "    sum_sigma = p1.sigma * p1.sigma + p2.sigma * p2.sigma\n",
    "    denom = np.sqrt(2 * (beta * beta) + sum_sigma)\n",
    "    return ts.cdf(delta_mu / denom)\n",
    "    \n",
    "submit = pd.read_csv('../input/SampleSubmissionStage2.csv')\n",
    "submit[['Season', 'Team1', 'Team2']] = submit.apply(lambda r:pd.Series([int(t) for t in r.ID.split('_')]), axis=1)\n",
    "\n",
    "df_tour = pd.read_csv('../input/RegularSeasonCompactResults.csv')\n",
    "teamIds = np.unique(np.concatenate([df_tour.WTeamID.values, df_tour.LTeamID.values]))\n",
    "ratings = { tid:ts.Rating() for tid in teamIds }\n",
    "\n",
    "def feed_season_results(season):\n",
    "    print(\"season = {}\".format(season))\n",
    "    df1 = df_tour[df_tour.Season == season]\n",
    "    for r in df1.itertuples():\n",
    "        ratings[r.WTeamID], ratings[r.LTeamID] = rate_1vs1(ratings[r.WTeamID], ratings[r.LTeamID])\n",
    "\n",
    "def update_pred(season):\n",
    "    beta = np.std([r.mu for r in ratings.values()]) \n",
    "#    print(\"beta = {}\".format(beta))\n",
    "    games2.loc[games2.Season==season, 'Pred2'] = games2[games2.Season==season].apply(lambda r:win_probability(ratings[r.Team1], ratings[r.Team2]), axis=1)\n",
    "    sub2.loc[sub2.Season==season, 'Pred2'] = sub2[sub2.Season==season].apply(lambda r:win_probability(ratings[r.Team1], ratings[r.Team2]), axis=1)\n",
    "\n",
    "for season in sorted(df_tour.Season.unique()): # exclude last 4 years\n",
    "    feed_season_results(season)\n",
    "\n",
    "update_pred(1985)\n",
    "update_pred(1986)\n",
    "update_pred(1987)\n",
    "update_pred(1988)\n",
    "update_pred(1989)\n",
    "update_pred(1999)\n",
    "update_pred(2000)\n",
    "update_pred(2001)\n",
    "update_pred(2002)\n",
    "update_pred(2003)\n",
    "update_pred(2004)\n",
    "update_pred(2005)\n",
    "update_pred(2006)\n",
    "update_pred(2007)\n",
    "update_pred(2008)\n",
    "update_pred(2009)\n",
    "update_pred(2010)\n",
    "update_pred(2011)\n",
    "update_pred(2012)\n",
    "update_pred(2013)\n",
    "update_pred(2014)\n",
    "feed_season_results(2014)\n",
    "update_pred(2015)\n",
    "feed_season_results(2015)\n",
    "update_pred(2016)\n",
    "feed_season_results(2016)\n",
    "update_pred(2017)\n",
    "\n",
    "#submit.drop(['Season', 'Team1', 'Team2'], axis=1, inplace=True)\n",
    "#submit.to_csv('trueskill_estimation.csv', index=None)"
   ]
  },
  {
   "cell_type": "code",
   "execution_count": null,
   "metadata": {
    "_cell_guid": "daca9a11-1e55-437f-9b39-327211e098c5",
    "_uuid": "cf4596b5645ce2d8feef3b56c2d2d3a629d830fa",
    "collapsed": true
   },
   "outputs": [],
   "source": [
    "sub2['Pred'].describe()"
   ]
  },
  {
   "cell_type": "code",
   "execution_count": null,
   "metadata": {
    "_cell_guid": "e3312f75-d4ec-4c25-ae24-c6e5939775ae",
    "_uuid": "87c2b443414fad472eb3bc3369b6be4af0d3371f",
    "collapsed": true
   },
   "outputs": [],
   "source": [
    "sub2.head()"
   ]
  },
  {
   "cell_type": "code",
   "execution_count": null,
   "metadata": {
    "_cell_guid": "a204f5d3-7967-4151-93e8-7ae04f917389",
    "_uuid": "7a9e8e03449e9cc302ffee875febb593dec7a062",
    "collapsed": true
   },
   "outputs": [],
   "source": [
    "col = [c for c in games2.columns if c not in ['ID', 'Season', 'Team1', 'Team2','IDTeams','IDTeam1','IDTeam2','Pred','DayNum', 'WTeamID', 'WScore', 'LTeamID', 'LScore', 'WLoc', 'NumOT', 'ScoreDiff', 'Team1NetRtg','Team2NetRtg','Team1Seed','Team2Seed','Team1PIE','Team2PIE','Team1OrdinalRank', 'Team2OrdinalRank']]\n",
    "#col = [c for c in games2.columns if c not in ['ID', 'Season', 'Team1', 'Team2','IDTeams','IDTeam1','IDTeam2','Pred','DayNum', 'WTeamID', 'WScore', 'LTeamID', 'LScore', 'WLoc', 'NumOT', 'ScoreDiff', 'Team1NetRtg','Team2NetRtg','Team1Seed','Team2Seed','Team1PIE','Team2PIE','Team1OrdinalRank', 'Team2OrdinalRank']]"
   ]
  },
  {
   "cell_type": "code",
   "execution_count": null,
   "metadata": {
    "_cell_guid": "49372824-75ca-489a-8076-a17840816feb",
    "_uuid": "291f77b7973da094a9f5ddc5e4ce5d53565ae7a3",
    "collapsed": true
   },
   "outputs": [],
   "source": [
    "xgbmodel = xgb.XGBRegressor(gamma=1)\n",
    "xgbmodel.fit(games2[col],games2['Pred'], eval_metric='logloss')\n",
    "sub2['Pred'] = xgbmodel.predict(sub2[col],output_margin=False)\n",
    "#sub2['Pred'] = (sub2['Pred3']+sub2['Pred2'])/2\n",
    "sub2[['ID','Pred']].to_csv('rh3p_submission.csv', index=False)"
   ]
  },
  {
   "cell_type": "code",
   "execution_count": null,
   "metadata": {
    "_cell_guid": "c5e36f16-bee5-4e7e-a83b-51ee46d851bb",
    "_uuid": "6aa617eb0f36a3a128791440a932dc02dae793f7",
    "collapsed": true
   },
   "outputs": [],
   "source": [
    "xgb.to_graphviz(model)"
   ]
  },
  {
   "cell_type": "code",
   "execution_count": null,
   "metadata": {
    "_cell_guid": "77cd784b-2436-4a4a-92c3-a8716f826b31",
    "_uuid": "0bac983b191f0cddca94387413c811b58a94e5a6",
    "collapsed": true
   },
   "outputs": [],
   "source": []
  }
 ],
 "metadata": {
  "kernelspec": {
   "display_name": "Python 3",
   "language": "python",
   "name": "python3"
  },
  "language_info": {
   "codemirror_mode": {
    "name": "ipython",
    "version": 3
   },
   "file_extension": ".py",
   "mimetype": "text/x-python",
   "name": "python",
   "nbconvert_exporter": "python",
   "pygments_lexer": "ipython3",
   "version": "3.6.3"
  }
 },
 "nbformat": 4,
 "nbformat_minor": 1
}
