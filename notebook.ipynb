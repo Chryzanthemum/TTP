{
  "cells": [
    {
      "metadata": {
        "_cell_guid": "e6eca26c-f9cb-4e1d-a167-60fee893e9c7",
        "_uuid": "7b9a982e0c4abfa54063ac4b9c6e7dc9bfc2ba50"
      },
      "cell_type": "markdown",
      "source": "## Enriching NCAATourneyDetailedResults.csv with Advanced Stats\n\n#### If the opponents of a team score only 75.2 points on average, it could be more about the pace at which the team played instead of their skill on the defensive end. \n\n### The given Box score numbers are an incomplete standard of a team's performance. \n\n**Advanced Metrics ** in basketball provide a deeper understanding of a team's performance.\n\n**Possession** is used to normalize basketball statistics - offensive/defensive efficiency and other metrics are all based on how the possession is calculated. Team performance should be measured on a per-possession basis.  \n\n> Possession =0.96*[(Field Goal Attempts)+(Turnovers)+0.44*(Free Throw Attempts)-(Off.Rebounds)]\n\n\n##### (Notice: Possession values are not calculated by using Play-By-Play data, as it seems like they do not necessarily add up to the final stats of the game and an estimation will do just fine)\n\nFor more information [click here](https://www.nbastuffer.com/analytics101/possession/)\n\n### Now let's add some new features that can acutally be used for predictive modelling and ranking a team.\n"
    },
    {
      "metadata": {
        "_cell_guid": "b67c1bc2-e5ce-4add-9888-0955136b092c",
        "_uuid": "ced0463ef72675e95233618e27181bde56fb65c5",
        "scrolled": true,
        "trusted": true,
        "collapsed": true
      },
      "cell_type": "code",
      "source": "import numpy as np \nimport pandas as pd \nimport matplotlib.pyplot as plt\nfrom math import pi\nimport xgboost as xgb\nfrom sklearn import *\n\ndf = pd.read_csv('../input/RegularSeasonDetailedResults.csv')\n\n#Points Winning/Losing Team\ndf['WPts'] = df.apply(lambda row: 2*row.WFGM + row.WFGM3 + row.WFTM, axis=1)\ndf['LPts'] = df.apply(lambda row: 2*row.LFGM + row.LFGM3 + row.LFTM, axis=1)\n\n#Calculate Winning/losing Team Possesion Feature\nwPos = df.apply(lambda row: 0.96*(row.WFGA + row.WTO + 0.44*row.WFTA - row.WOR), axis=1)\nlPos = df.apply(lambda row: 0.96*(row.LFGA + row.LTO + 0.44*row.LFTA - row.LOR), axis=1)\n#two teams use almost the same number of possessions in a game\n#(plus/minus one or two - depending on how quarters end)\n#so let's just take the average\ndf['Pos'] = (wPos+lPos)/2",
      "execution_count": 30,
      "outputs": []
    },
    {
      "metadata": {
        "_cell_guid": "173212ce-dccd-40dc-a0f1-b612922c31aa",
        "_uuid": "f8dceddce33b374e9d3d6fea8f1e02ca12cf7222"
      },
      "cell_type": "markdown",
      "source": "### Advanced Metrics"
    },
    {
      "metadata": {
        "_cell_guid": "2c85216b-da62-4a33-8e56-a2e2d1fcd06d",
        "_uuid": "fb143f52f5873e20ebc304f0a3c668d59e3307ac",
        "trusted": true
      },
      "cell_type": "code",
      "source": "#df = df[df['DayNum']<=132]",
      "execution_count": 2,
      "outputs": [
        {
          "data": {
            "text/html": "<div>\n<style>\n    .dataframe thead tr:only-child th {\n        text-align: right;\n    }\n\n    .dataframe thead th {\n        text-align: left;\n    }\n\n    .dataframe tbody tr th {\n        vertical-align: top;\n    }\n</style>\n<table border=\"1\" class=\"dataframe\">\n  <thead>\n    <tr style=\"text-align: right;\">\n      <th></th>\n      <th>Season</th>\n      <th>DayNum</th>\n      <th>WTeamID</th>\n      <th>WScore</th>\n      <th>LTeamID</th>\n      <th>LScore</th>\n      <th>WLoc</th>\n      <th>NumOT</th>\n      <th>WFGM</th>\n      <th>WFGA</th>\n      <th>...</th>\n      <th>LOR</th>\n      <th>LDR</th>\n      <th>LAst</th>\n      <th>LTO</th>\n      <th>LStl</th>\n      <th>LBlk</th>\n      <th>LPF</th>\n      <th>WPts</th>\n      <th>LPts</th>\n      <th>Pos</th>\n    </tr>\n  </thead>\n  <tbody>\n    <tr>\n      <th>0</th>\n      <td>2003</td>\n      <td>134</td>\n      <td>1421</td>\n      <td>92</td>\n      <td>1411</td>\n      <td>84</td>\n      <td>N</td>\n      <td>1</td>\n      <td>32</td>\n      <td>69</td>\n      <td>...</td>\n      <td>17</td>\n      <td>28</td>\n      <td>16</td>\n      <td>15</td>\n      <td>5</td>\n      <td>0</td>\n      <td>22</td>\n      <td>92</td>\n      <td>84</td>\n      <td>75.3984</td>\n    </tr>\n    <tr>\n      <th>1</th>\n      <td>2003</td>\n      <td>136</td>\n      <td>1112</td>\n      <td>80</td>\n      <td>1436</td>\n      <td>51</td>\n      <td>N</td>\n      <td>0</td>\n      <td>31</td>\n      <td>66</td>\n      <td>...</td>\n      <td>8</td>\n      <td>26</td>\n      <td>12</td>\n      <td>17</td>\n      <td>10</td>\n      <td>3</td>\n      <td>15</td>\n      <td>80</td>\n      <td>51</td>\n      <td>73.5552</td>\n    </tr>\n    <tr>\n      <th>2</th>\n      <td>2003</td>\n      <td>136</td>\n      <td>1113</td>\n      <td>84</td>\n      <td>1272</td>\n      <td>71</td>\n      <td>N</td>\n      <td>0</td>\n      <td>31</td>\n      <td>59</td>\n      <td>...</td>\n      <td>20</td>\n      <td>22</td>\n      <td>11</td>\n      <td>12</td>\n      <td>2</td>\n      <td>5</td>\n      <td>18</td>\n      <td>84</td>\n      <td>71</td>\n      <td>66.2016</td>\n    </tr>\n    <tr>\n      <th>3</th>\n      <td>2003</td>\n      <td>136</td>\n      <td>1141</td>\n      <td>79</td>\n      <td>1166</td>\n      <td>73</td>\n      <td>N</td>\n      <td>0</td>\n      <td>29</td>\n      <td>53</td>\n      <td>...</td>\n      <td>14</td>\n      <td>17</td>\n      <td>20</td>\n      <td>21</td>\n      <td>6</td>\n      <td>6</td>\n      <td>21</td>\n      <td>79</td>\n      <td>73</td>\n      <td>69.8304</td>\n    </tr>\n    <tr>\n      <th>4</th>\n      <td>2003</td>\n      <td>136</td>\n      <td>1143</td>\n      <td>76</td>\n      <td>1301</td>\n      <td>74</td>\n      <td>N</td>\n      <td>1</td>\n      <td>27</td>\n      <td>64</td>\n      <td>...</td>\n      <td>10</td>\n      <td>26</td>\n      <td>16</td>\n      <td>14</td>\n      <td>5</td>\n      <td>8</td>\n      <td>19</td>\n      <td>76</td>\n      <td>74</td>\n      <td>66.2016</td>\n    </tr>\n  </tbody>\n</table>\n<p>5 rows × 37 columns</p>\n</div>",
            "text/plain": "   Season  DayNum  WTeamID  WScore  LTeamID  LScore WLoc  NumOT  WFGM  WFGA  \\\n0    2003     134     1421      92     1411      84    N      1    32    69   \n1    2003     136     1112      80     1436      51    N      0    31    66   \n2    2003     136     1113      84     1272      71    N      0    31    59   \n3    2003     136     1141      79     1166      73    N      0    29    53   \n4    2003     136     1143      76     1301      74    N      1    27    64   \n\n    ...     LOR  LDR  LAst  LTO  LStl  LBlk  LPF  WPts  LPts      Pos  \n0   ...      17   28    16   15     5     0   22    92    84  75.3984  \n1   ...       8   26    12   17    10     3   15    80    51  73.5552  \n2   ...      20   22    11   12     2     5   18    84    71  66.2016  \n3   ...      14   17    20   21     6     6   21    79    73  69.8304  \n4   ...      10   26    16   14     5     8   19    76    74  66.2016  \n\n[5 rows x 37 columns]"
          },
          "execution_count": 2,
          "metadata": {},
          "output_type": "execute_result"
        }
      ]
    },
    {
      "metadata": {
        "trusted": true,
        "_uuid": "335d99caa641bfa859b95035d89661ab9e42edb6"
      },
      "cell_type": "code",
      "source": "#df['DayNum'].describe()",
      "execution_count": 32,
      "outputs": [
        {
          "data": {
            "text/plain": "count    981.000000\nmean     139.060143\nstd        4.221598\nmin      134.000000\n25%      136.000000\n50%      137.000000\n75%      139.000000\nmax      154.000000\nName: DayNum, dtype: float64"
          },
          "execution_count": 32,
          "metadata": {},
          "output_type": "execute_result"
        }
      ]
    },
    {
      "metadata": {
        "_cell_guid": "804047f8-32b8-4266-aad8-3386883ac567",
        "_kg_hide-input": false,
        "_kg_hide-output": false,
        "_uuid": "9405211c539409a62a07177e1522d447a5c4afd0",
        "collapsed": true,
        "trusted": true
      },
      "cell_type": "code",
      "source": "#Offensive efficiency (OffRtg) = 100 x (Points / Possessions)\ndf['WOffRtg'] = df.apply(lambda row: 100 * (row.WPts / row.Pos), axis=1)\ndf['LOffRtg'] = df.apply(lambda row: 100 * (row.LPts / row.Pos), axis=1)\n#Defensive efficiency (DefRtg) = 100 x (Opponent points / Opponent possessions)\ndf['WDefRtg'] = df.LOffRtg\ndf['LDefRtg'] = df.WOffRtg\n#Net Rating = Off.eff - Def.eff\ndf['WNetRtg'] = df.apply(lambda row:(row.WOffRtg - row.WDefRtg), axis=1)\ndf['LNetRtg'] = df.apply(lambda row:(row.LOffRtg - row.LDefRtg), axis=1)\n                         \n#Assist Ratio : Percentage of team possessions that end in assists\ndf['WAstR'] = df.apply(lambda row: 100 * row.WAst / (row.WFGA + 0.44*row.WFTA + row.WAst + row.WTO), axis=1)\ndf['LAstR'] = df.apply(lambda row: 100 * row.LAst / (row.LFGA + 0.44*row.LFTA + row.LAst + row.LTO), axis=1)\n#Turnover Ratio: Number of turnovers of a team per 100 possessions used.\n#(TO * 100) / (FGA + (FTA * 0.44) + AST + TO\ndf['WTOR'] = df.apply(lambda row: 100 * row.LAst / (row.LFGA + 0.44*row.LFTA + row.LAst + row.LTO), axis=1)\ndf['LTOR'] = df.apply(lambda row: 100 * row.LAst / (row.LFGA + 0.44*row.LFTA + row.LAst + row.LTO), axis=1)\n                    \n#The Shooting Percentage : Measure of Shooting Efficiency (FGA/FGA3, FTA)\ndf['WTSP'] = df.apply(lambda row: 100 * row.WPts / (2 * (row.WFGA + 0.44 * row.WFTA)), axis=1)\ndf['LTSP'] = df.apply(lambda row: 100 * row.LPts / (2 * (row.LFGA + 0.44 * row.LFTA)), axis=1)\n#eFG% : Effective Field Goal Percentage adjusting for the fact that 3pt shots are more valuable \ndf['WeFGP'] = df.apply(lambda row:(row.WFGM + 0.5 * row.WFGM3) / row.WFGA, axis=1)      \ndf['LeFGP'] = df.apply(lambda row:(row.LFGM + 0.5 * row.LFGM3) / row.LFGA, axis=1)   \n#FTA Rate : How good a team is at drawing fouls.\ndf['WFTAR'] = df.apply(lambda row: row.WFTA / row.WFGA, axis=1)\ndf['LFTAR'] = df.apply(lambda row: row.LFTA / row.LFGA, axis=1)\n                         \n#OREB% : Percentage of team offensive rebounds\ndf['WORP'] = df.apply(lambda row: row.WOR / (row.WOR + row.LDR), axis=1)\ndf['LORP'] = df.apply(lambda row: row.LOR / (row.LOR + row.WDR), axis=1)\n#DREB% : Percentage of team defensive rebounds\ndf['WDRP'] = df.apply(lambda row: row.WDR / (row.WDR + row.LOR), axis=1)\ndf['LDRP'] = df.apply(lambda row: row.LDR / (row.LDR + row.WOR), axis=1)                                      \n#REB% : Percentage of team total rebounds\ndf['WRP'] = df.apply(lambda row: (row.WDR + row.WOR) / (row.WDR + row.WOR + row.LDR + row.LOR), axis=1)\ndf['LRP'] = df.apply(lambda row: (row.LDR + row.WOR) / (row.WDR + row.WOR + row.LDR + row.LOR), axis=1) \n",
      "execution_count": 3,
      "outputs": []
    },
    {
      "metadata": {
        "_cell_guid": "315b4dc2-5638-4a1b-bb0c-d90b4b2c6959",
        "_uuid": "13c6b98b314a55ecdb4f13e730072976fbaec739"
      },
      "cell_type": "markdown",
      "source": "#### PIE : Measure of a team's performance\n\n> *A high PIE % is highly correlated to winning. In fact, a team’s PIE rating and a team’s winning percentage correlate at an R square of .908 which indicates a \"strong\" correlation*\n\nfrom the official site of the [NBA](https://stats.nba.com/help/glossary/)"
    },
    {
      "metadata": {
        "_cell_guid": "158662a2-c4b5-4795-bc90-4af1fb4bc858",
        "_kg_hide-input": true,
        "_uuid": "9099f8a338afa200e6df4183748d23f14ea0285f",
        "collapsed": true,
        "trusted": true
      },
      "cell_type": "code",
      "source": "df['WPIE'] = df.apply(lambda row: (row.WDR + row.WOR) / (row.WDR + row.WOR + row.LDR + row.LOR), axis=1)\nwtmp = df.apply(lambda row: row.WPts + row.WFGM + row.WFTM - row.WFGA - row.WFTA + row.WDR + 0.5*row.WOR + row.WAst +row.WStl + 0.5*row.WBlk - row.WPF - row.WTO, axis=1)\nltmp = df.apply(lambda row: row.LPts + row.LFGM + row.LFTM - row.LFGA - row.LFTA + row.LDR + 0.5*row.LOR + row.LAst +row.LStl + 0.5*row.LBlk - row.LPF - row.LTO, axis=1) \ndf['WPIE'] = wtmp/(wtmp + ltmp)\ndf['LPIE'] = ltmp/(wtmp + ltmp)",
      "execution_count": 4,
      "outputs": []
    },
    {
      "metadata": {
        "_cell_guid": "118cb8a6-9ece-4807-aa9c-81fbb5dda600",
        "_uuid": "09e5c07e57b7538d963fdb6937251ecfe2c6c974",
        "trusted": true
      },
      "cell_type": "code",
      "source": "\n#Now let's consolidate - I've literally never read a style guide in my life\ndfwins = df[['Season', 'WTeamID', 'WNetRtg', 'WPIE']]\ndfwins.rename(index=str, columns={\"WTeamID\": \"TeamID\",\"WNetRtg\": \"NetRtg\", \"WPIE\": \"PIE\"}, inplace = True)\ndflosses = df[['Season','LTeamID', 'LNetRtg','LPIE']]\ndflosses.rename(index=str, columns={\"LTeamID\": \"TeamID\",\"LNetRtg\": \"NetRtg\",\"LPIE\": \"PIE\"}, inplace = True)\n\ndfadvanced = dfwins.append(dflosses)\ndfadvanced = dfadvanced.groupby(['Season', 'TeamID']).agg({\"NetRtg\":\"mean\", \"PIE\":\"mean\"}).reset_index()\n",
      "execution_count": 5,
      "outputs": [
        {
          "name": "stderr",
          "output_type": "stream",
          "text": "/opt/conda/lib/python3.6/site-packages/pandas/core/frame.py:2746: SettingWithCopyWarning: \nA value is trying to be set on a copy of a slice from a DataFrame\n\nSee the caveats in the documentation: http://pandas.pydata.org/pandas-docs/stable/indexing.html#indexing-view-versus-copy\n  **kwargs)\n"
        }
      ]
    },
    {
      "metadata": {
        "_cell_guid": "3eba7e89-22e4-4787-a91a-d9570d321759",
        "_uuid": "793f16910937e28bab741bb80c41554d5811ac5b",
        "collapsed": true,
        "trusted": true
      },
      "cell_type": "code",
      "source": "#data\ngames = pd.read_csv('../input/NCAATourneyCompactResults.csv')\n",
      "execution_count": 6,
      "outputs": []
    },
    {
      "metadata": {
        "_cell_guid": "5b9ba65f-af8b-41ce-93a1-f96f6cf5b107",
        "_uuid": "4cc731e3dca34018cc181b70b75aed50ddb16da9",
        "trusted": true
      },
      "cell_type": "code",
      "source": "dfadvanced.head()",
      "execution_count": 7,
      "outputs": [
        {
          "data": {
            "text/html": "<div>\n<style>\n    .dataframe thead tr:only-child th {\n        text-align: right;\n    }\n\n    .dataframe thead th {\n        text-align: left;\n    }\n\n    .dataframe tbody tr th {\n        vertical-align: top;\n    }\n</style>\n<table border=\"1\" class=\"dataframe\">\n  <thead>\n    <tr style=\"text-align: right;\">\n      <th></th>\n      <th>Season</th>\n      <th>TeamID</th>\n      <th>NetRtg</th>\n      <th>PIE</th>\n    </tr>\n  </thead>\n  <tbody>\n    <tr>\n      <th>0</th>\n      <td>2003</td>\n      <td>1104</td>\n      <td>-9.179297</td>\n      <td>0.442708</td>\n    </tr>\n    <tr>\n      <th>1</th>\n      <td>2003</td>\n      <td>1112</td>\n      <td>14.887086</td>\n      <td>0.611089</td>\n    </tr>\n    <tr>\n      <th>2</th>\n      <td>2003</td>\n      <td>1113</td>\n      <td>-12.691861</td>\n      <td>0.473529</td>\n    </tr>\n    <tr>\n      <th>3</th>\n      <td>2003</td>\n      <td>1120</td>\n      <td>3.792182</td>\n      <td>0.536723</td>\n    </tr>\n    <tr>\n      <th>4</th>\n      <td>2003</td>\n      <td>1122</td>\n      <td>-31.306922</td>\n      <td>0.287611</td>\n    </tr>\n  </tbody>\n</table>\n</div>",
            "text/plain": "   Season  TeamID     NetRtg       PIE\n0    2003    1104  -9.179297  0.442708\n1    2003    1112  14.887086  0.611089\n2    2003    1113 -12.691861  0.473529\n3    2003    1120   3.792182  0.536723\n4    2003    1122 -31.306922  0.287611"
          },
          "execution_count": 7,
          "metadata": {},
          "output_type": "execute_result"
        }
      ]
    },
    {
      "metadata": {
        "_cell_guid": "c2f8570a-7158-40e4-9b6e-6330667771aa",
        "_uuid": "ec4dfba7f4546e6b984e3b40d82aa3b9f53a22f7",
        "collapsed": true,
        "trusted": true
      },
      "cell_type": "code",
      "source": "#Add Ids\ngames['ID'] = games.apply(lambda r: '_'.join(map(str, [r['Season']]+sorted([r['WTeamID'],r['LTeamID']]))), axis=1)\ngames['IDTeams'] = games.apply(lambda r: '_'.join(map(str, sorted([r['WTeamID'],r['LTeamID']]))), axis=1)\ngames['Team1'] = games.apply(lambda r: sorted([r['WTeamID'],r['LTeamID']])[0], axis=1)\ngames['Team2'] = games.apply(lambda r: sorted([r['WTeamID'],r['LTeamID']])[1], axis=1)\ngames['IDTeam1'] = games.apply(lambda r: '_'.join(map(str, [r['Season'], r['Team1']])), axis=1)\ngames['IDTeam2'] = games.apply(lambda r: '_'.join(map(str, [r['Season'], r['Team2']])), axis=1)\n#Add Seeds\nseeds = pd.read_csv('../input/NCAATourneySeeds.csv')\nseeds = {'_'.join(map(str,[int(k1)+1,k2])):int(v[1:3]) for k1, v, k2 in seeds.values}\n#add 2018 Seeds\nseeds = {**seeds, **{k.replace('1999_','1998_'):seeds[k] for k in seeds if '1999_' in k}}\n\ngames['Team1Seed'] = games['IDTeam1'].map(seeds).fillna(0)\ngames['Team2Seed'] = games['IDTeam2'].map(seeds).fillna(0)\n",
      "execution_count": 8,
      "outputs": []
    },
    {
      "metadata": {
        "_cell_guid": "e7bf9312-b3bc-45a3-bcfd-be1358dc7850",
        "_uuid": "b82b696c31263ec744c255588efdcba6f9ccbc3a",
        "collapsed": true,
        "trusted": true
      },
      "cell_type": "code",
      "source": "\n#Additional Features & Clean Up\ngames['ScoreDiff'] = games['WScore'] - games['LScore'] \ngames['Pred'] = games.apply(lambda r: 1. if sorted([r['WTeamID'],r['LTeamID']])[0]==r['WTeamID'] else 0., axis=1)\ngames['ScoreDiffNorm'] = games.apply(lambda r: r['ScoreDiff'] * -1 if r['Pred'] == 0. else r['ScoreDiff'], axis=1)\ngames['SeedDiff'] = games['Team1Seed'] - games['Team2Seed'] \ngames = games.fillna(-1)\n\nsdn = games.groupby(['IDTeams'], as_index=False)[['ScoreDiffNorm']].mean()\n",
      "execution_count": 9,
      "outputs": []
    },
    {
      "metadata": {
        "_cell_guid": "e947fb5b-220a-47e0-954e-df4bb4fe16ed",
        "_uuid": "d3511356ce002cf6a25aed7817ffc39b238a43df",
        "collapsed": true,
        "trusted": true
      },
      "cell_type": "code",
      "source": "\n#Test Set\nsub = pd.read_csv('../input/SampleSubmissionStage1.csv')\nsub['Season'] = sub['ID'].map(lambda x: x.split('_')[0])\nsub['Team1'] = sub['ID'].map(lambda x: x.split('_')[1])\nsub['Team2'] = sub['ID'].map(lambda x: x.split('_')[2])\nsub['IDTeams'] = sub.apply(lambda r: '_'.join(map(str, [r['Team1'], r['Team2']])), axis=1)\nsub['IDTeam1'] = sub.apply(lambda r: '_'.join(map(str, [r['Season'], r['Team1']])), axis=1)\nsub['IDTeam2'] = sub.apply(lambda r: '_'.join(map(str, [r['Season'], r['Team2']])), axis=1)\nsub['Team1Seed'] = sub['IDTeam1'].map(seeds).fillna(0)\nsub['Team2Seed'] = sub['IDTeam2'].map(seeds).fillna(0)\nsub = pd.merge(sub, sdn, how='left', on=['IDTeams'])\nsub['ScoreDiffNorm'] = sub['ScoreDiffNorm'].fillna(0.)\nsub['SeedDiff'] = sub['Team1Seed'] - sub['Team2Seed'] \n",
      "execution_count": 10,
      "outputs": []
    },
    {
      "metadata": {
        "_cell_guid": "36ae3b49-bb8e-427e-a76b-cb9806108680",
        "_uuid": "e9cbc37736a7b3bfdd85e98e4adc0f40cb39adbc",
        "trusted": true
      },
      "cell_type": "code",
      "source": "sub.head()",
      "execution_count": 11,
      "outputs": [
        {
          "data": {
            "text/html": "<div>\n<style>\n    .dataframe thead tr:only-child th {\n        text-align: right;\n    }\n\n    .dataframe thead th {\n        text-align: left;\n    }\n\n    .dataframe tbody tr th {\n        vertical-align: top;\n    }\n</style>\n<table border=\"1\" class=\"dataframe\">\n  <thead>\n    <tr style=\"text-align: right;\">\n      <th></th>\n      <th>ID</th>\n      <th>Pred</th>\n      <th>Season</th>\n      <th>Team1</th>\n      <th>Team2</th>\n      <th>IDTeams</th>\n      <th>IDTeam1</th>\n      <th>IDTeam2</th>\n      <th>Team1Seed</th>\n      <th>Team2Seed</th>\n      <th>ScoreDiffNorm</th>\n      <th>SeedDiff</th>\n    </tr>\n  </thead>\n  <tbody>\n    <tr>\n      <th>0</th>\n      <td>2014_1107_1110</td>\n      <td>0.5</td>\n      <td>2014</td>\n      <td>1107</td>\n      <td>1110</td>\n      <td>1107_1110</td>\n      <td>2014_1107</td>\n      <td>2014_1110</td>\n      <td>15.0</td>\n      <td>0.0</td>\n      <td>0.0</td>\n      <td>15.0</td>\n    </tr>\n    <tr>\n      <th>1</th>\n      <td>2014_1107_1112</td>\n      <td>0.5</td>\n      <td>2014</td>\n      <td>1107</td>\n      <td>1112</td>\n      <td>1107_1112</td>\n      <td>2014_1107</td>\n      <td>2014_1112</td>\n      <td>15.0</td>\n      <td>6.0</td>\n      <td>0.0</td>\n      <td>9.0</td>\n    </tr>\n    <tr>\n      <th>2</th>\n      <td>2014_1107_1113</td>\n      <td>0.5</td>\n      <td>2014</td>\n      <td>1107</td>\n      <td>1113</td>\n      <td>1107_1113</td>\n      <td>2014_1107</td>\n      <td>2014_1113</td>\n      <td>15.0</td>\n      <td>0.0</td>\n      <td>0.0</td>\n      <td>15.0</td>\n    </tr>\n    <tr>\n      <th>3</th>\n      <td>2014_1107_1124</td>\n      <td>0.5</td>\n      <td>2014</td>\n      <td>1107</td>\n      <td>1124</td>\n      <td>1107_1124</td>\n      <td>2014_1107</td>\n      <td>2014_1124</td>\n      <td>15.0</td>\n      <td>0.0</td>\n      <td>0.0</td>\n      <td>15.0</td>\n    </tr>\n    <tr>\n      <th>4</th>\n      <td>2014_1107_1140</td>\n      <td>0.5</td>\n      <td>2014</td>\n      <td>1107</td>\n      <td>1140</td>\n      <td>1107_1140</td>\n      <td>2014_1107</td>\n      <td>2014_1140</td>\n      <td>15.0</td>\n      <td>0.0</td>\n      <td>0.0</td>\n      <td>15.0</td>\n    </tr>\n  </tbody>\n</table>\n</div>",
            "text/plain": "               ID  Pred Season Team1 Team2    IDTeams    IDTeam1    IDTeam2  \\\n0  2014_1107_1110   0.5   2014  1107  1110  1107_1110  2014_1107  2014_1110   \n1  2014_1107_1112   0.5   2014  1107  1112  1107_1112  2014_1107  2014_1112   \n2  2014_1107_1113   0.5   2014  1107  1113  1107_1113  2014_1107  2014_1113   \n3  2014_1107_1124   0.5   2014  1107  1124  1107_1124  2014_1107  2014_1124   \n4  2014_1107_1140   0.5   2014  1107  1140  1107_1140  2014_1107  2014_1140   \n\n   Team1Seed  Team2Seed  ScoreDiffNorm  SeedDiff  \n0       15.0        0.0            0.0      15.0  \n1       15.0        6.0            0.0       9.0  \n2       15.0        0.0            0.0      15.0  \n3       15.0        0.0            0.0      15.0  \n4       15.0        0.0            0.0      15.0  "
          },
          "execution_count": 11,
          "metadata": {},
          "output_type": "execute_result"
        }
      ]
    },
    {
      "metadata": {
        "_cell_guid": "c512a5e4-2c60-473b-8a4c-1190badd23a3",
        "_uuid": "efb74579e9309d420060fd7c6812aff93c130017",
        "collapsed": true,
        "trusted": true
      },
      "cell_type": "code",
      "source": "games2 = games[['Season', 'ID', 'Team1', 'Team2', 'Team1Seed', 'Team2Seed', 'Pred']]\ngames2 = games2.merge(dfadvanced, left_on =['Season', 'Team1'], right_on = ['Season', 'TeamID'], how='inner')\n#col = [c for c in games.columns if c not in ['ID', 'Season', 'Team1', 'Team2','IDTeams','IDTeam1','IDTeam2','Pred','DayNum', 'WTeamID', 'WScore', 'LTeamID', 'LScore', 'WLoc', 'NumOT', 'ScoreDiff']]\n#col = ['SeedDiff']\n#sub[col].columns",
      "execution_count": 12,
      "outputs": []
    },
    {
      "metadata": {
        "_cell_guid": "e1aafbd8-41cd-46a0-9263-30df70d41e55",
        "_uuid": "8aee1bf396b23953d115ebd50d5533e4c9be9dc0",
        "collapsed": true,
        "trusted": true
      },
      "cell_type": "code",
      "source": "games2.drop(['TeamID'], axis=1, inplace=True)\ngames2.rename(index=str, columns={\"NetRtg\": \"Team1NetRtg\", \"PIE\": \"Team1PIE\"}, inplace = True)\ngames2 = games2.merge(dfadvanced, left_on =['Season', 'Team2'], right_on = ['Season', 'TeamID'], how='inner')\ngames2.drop(['TeamID'], axis=1, inplace=True)\ngames2.rename(index=str, columns={\"NetRtg\": \"Team2NetRtg\", \"PIE\": \"Team2PIE\"}, inplace = True)\n",
      "execution_count": 13,
      "outputs": []
    },
    {
      "metadata": {
        "_cell_guid": "4f15d5bb-951d-4594-8a8c-3e867fed965c",
        "_uuid": "5b91efd25cc332567e207b3013fd09fa7f2a939c",
        "collapsed": true,
        "trusted": true
      },
      "cell_type": "code",
      "source": "games2['Team1Seed'].replace(0, 20, inplace=True)\ngames2['Team2Seed'].replace(0, 20, inplace=True)\n#games2['SeedDiff'] = games2['Team1Seed'] - games2['Team2Seed']\n\ngames2['SeedDiff'] = games2['Team1Seed'] - games2['Team2Seed']\ngames2['PIEDiff'] = games2['Team1PIE'] - games2['Team2PIE']\ngames2['NetRtgDiff'] = games2['Team1NetRtg'] - games2['Team2NetRtg']",
      "execution_count": 14,
      "outputs": []
    },
    {
      "metadata": {
        "_cell_guid": "dc16c235-347a-4af9-90e7-264200636b7c",
        "_uuid": "d4ff64723703e42608cc8c74250bd8ba87461574",
        "trusted": true
      },
      "cell_type": "code",
      "source": "\nsub2 = sub[['Season', 'ID', 'Team1', 'Team2', 'Team1Seed', 'Team2Seed', 'Pred']]\nsub2['Season'] = pd.to_numeric(sub2['Season'])\nsub2['Team1'] = pd.to_numeric(sub2['Team1'])\nsub2['Team2'] = pd.to_numeric(sub2['Team2'])\nsub2 = sub2.merge(dfadvanced, left_on =['Season', 'Team1'], right_on = ['Season', 'TeamID'], how='left')\nsub2.drop(['TeamID'], axis=1, inplace=True)",
      "execution_count": 15,
      "outputs": [
        {
          "name": "stderr",
          "output_type": "stream",
          "text": "/opt/conda/lib/python3.6/site-packages/ipykernel_launcher.py:3: SettingWithCopyWarning: \nA value is trying to be set on a copy of a slice from a DataFrame.\nTry using .loc[row_indexer,col_indexer] = value instead\n\nSee the caveats in the documentation: http://pandas.pydata.org/pandas-docs/stable/indexing.html#indexing-view-versus-copy\n  This is separate from the ipykernel package so we can avoid doing imports until\n/opt/conda/lib/python3.6/site-packages/ipykernel_launcher.py:4: SettingWithCopyWarning: \nA value is trying to be set on a copy of a slice from a DataFrame.\nTry using .loc[row_indexer,col_indexer] = value instead\n\nSee the caveats in the documentation: http://pandas.pydata.org/pandas-docs/stable/indexing.html#indexing-view-versus-copy\n  after removing the cwd from sys.path.\n/opt/conda/lib/python3.6/site-packages/ipykernel_launcher.py:5: SettingWithCopyWarning: \nA value is trying to be set on a copy of a slice from a DataFrame.\nTry using .loc[row_indexer,col_indexer] = value instead\n\nSee the caveats in the documentation: http://pandas.pydata.org/pandas-docs/stable/indexing.html#indexing-view-versus-copy\n  \"\"\"\n"
        }
      ]
    },
    {
      "metadata": {
        "_cell_guid": "07c204c9-539a-4e37-8934-968bbe15cca0",
        "_uuid": "d3633d3c44f69791b2faae8be8868fa0950cdca0",
        "trusted": true
      },
      "cell_type": "code",
      "source": "sub2.head()",
      "execution_count": 16,
      "outputs": [
        {
          "data": {
            "text/html": "<div>\n<style>\n    .dataframe thead tr:only-child th {\n        text-align: right;\n    }\n\n    .dataframe thead th {\n        text-align: left;\n    }\n\n    .dataframe tbody tr th {\n        vertical-align: top;\n    }\n</style>\n<table border=\"1\" class=\"dataframe\">\n  <thead>\n    <tr style=\"text-align: right;\">\n      <th></th>\n      <th>Season</th>\n      <th>ID</th>\n      <th>Team1</th>\n      <th>Team2</th>\n      <th>Team1Seed</th>\n      <th>Team2Seed</th>\n      <th>Pred</th>\n      <th>NetRtg</th>\n      <th>PIE</th>\n    </tr>\n  </thead>\n  <tbody>\n    <tr>\n      <th>0</th>\n      <td>2014</td>\n      <td>2014_1107_1110</td>\n      <td>1107</td>\n      <td>1110</td>\n      <td>15.0</td>\n      <td>0.0</td>\n      <td>0.5</td>\n      <td>-4.398205</td>\n      <td>0.508217</td>\n    </tr>\n    <tr>\n      <th>1</th>\n      <td>2014</td>\n      <td>2014_1107_1112</td>\n      <td>1107</td>\n      <td>1112</td>\n      <td>15.0</td>\n      <td>6.0</td>\n      <td>0.5</td>\n      <td>-4.398205</td>\n      <td>0.508217</td>\n    </tr>\n    <tr>\n      <th>2</th>\n      <td>2014</td>\n      <td>2014_1107_1113</td>\n      <td>1107</td>\n      <td>1113</td>\n      <td>15.0</td>\n      <td>0.0</td>\n      <td>0.5</td>\n      <td>-4.398205</td>\n      <td>0.508217</td>\n    </tr>\n    <tr>\n      <th>3</th>\n      <td>2014</td>\n      <td>2014_1107_1124</td>\n      <td>1107</td>\n      <td>1124</td>\n      <td>15.0</td>\n      <td>0.0</td>\n      <td>0.5</td>\n      <td>-4.398205</td>\n      <td>0.508217</td>\n    </tr>\n    <tr>\n      <th>4</th>\n      <td>2014</td>\n      <td>2014_1107_1140</td>\n      <td>1107</td>\n      <td>1140</td>\n      <td>15.0</td>\n      <td>0.0</td>\n      <td>0.5</td>\n      <td>-4.398205</td>\n      <td>0.508217</td>\n    </tr>\n  </tbody>\n</table>\n</div>",
            "text/plain": "   Season              ID  Team1  Team2  Team1Seed  Team2Seed  Pred    NetRtg  \\\n0    2014  2014_1107_1110   1107   1110       15.0        0.0   0.5 -4.398205   \n1    2014  2014_1107_1112   1107   1112       15.0        6.0   0.5 -4.398205   \n2    2014  2014_1107_1113   1107   1113       15.0        0.0   0.5 -4.398205   \n3    2014  2014_1107_1124   1107   1124       15.0        0.0   0.5 -4.398205   \n4    2014  2014_1107_1140   1107   1140       15.0        0.0   0.5 -4.398205   \n\n        PIE  \n0  0.508217  \n1  0.508217  \n2  0.508217  \n3  0.508217  \n4  0.508217  "
          },
          "execution_count": 16,
          "metadata": {},
          "output_type": "execute_result"
        }
      ]
    },
    {
      "metadata": {
        "_cell_guid": "422e6d81-25ff-4595-87bc-c11f1669d8dd",
        "_uuid": "51954f5d480e3bb08ca5bf6dcd060cb39d99b2f2",
        "collapsed": true,
        "trusted": true
      },
      "cell_type": "code",
      "source": "",
      "execution_count": null,
      "outputs": []
    },
    {
      "metadata": {
        "_cell_guid": "51ea783a-eacf-4f57-a4f5-cfa5142a05ec",
        "_uuid": "d898a87da0e79b8adbc4fcab09f08143cefa09d4",
        "collapsed": true,
        "trusted": true
      },
      "cell_type": "code",
      "source": "sub2.rename(index=str, columns={\"NetRtg\": \"Team1NetRtg\", \"PIE\": \"Team1PIE\"}, inplace = True)\nsub2 = sub2.merge(dfadvanced, left_on =['Season', 'Team2'], right_on = ['Season', 'TeamID'], how='left')\nsub2.drop(['TeamID'], axis=1, inplace=True)\nsub2.rename(index=str, columns={\"NetRtg\": \"Team2NetRtg\", \"PIE\": \"Team2PIE\"}, inplace = True)\nsub2['Team1Seed'].replace(0, 20, inplace=True)\nsub2['Team2Seed'].replace(0, 20, inplace=True)\n",
      "execution_count": 20,
      "outputs": []
    },
    {
      "metadata": {
        "_cell_guid": "faf3baea-12ee-482c-ba24-6912844fd970",
        "_uuid": "b0ed53bc82fbbc471e73b465a3acce9278d6c451",
        "collapsed": true,
        "trusted": true
      },
      "cell_type": "code",
      "source": "sub2['SeedDiff'] = sub2['Team1Seed'] - sub2['Team2Seed']\nsub2['PIEDiff'] = sub2['Team1PIE'] - sub2['Team2PIE']\nsub2['NetRtgDiff'] = sub2['Team1NetRtg'] - sub2['Team2NetRtg']",
      "execution_count": 21,
      "outputs": []
    },
    {
      "metadata": {
        "_cell_guid": "4b8b8cad-2195-4e27-a2b0-2f003b5b851c",
        "_uuid": "895473951896fd1f2bac95d91076b1f302eb8f30",
        "trusted": true
      },
      "cell_type": "code",
      "source": "sub2['Team1PIE'].describe()",
      "execution_count": 27,
      "outputs": [
        {
          "data": {
            "text/plain": "count    9112.000000\nmean        0.446743\nstd         0.115952\nmin         0.061350\n25%         0.367413\n50%         0.455974\n75%         0.533188\nmax         0.754692\nName: Team1PIE, dtype: float64"
          },
          "execution_count": 27,
          "metadata": {},
          "output_type": "execute_result"
        }
      ]
    },
    {
      "metadata": {
        "_cell_guid": "04170feb-05d4-4c6f-8cd3-ed557993ecb5",
        "_uuid": "1d66f1635abbb5a83a5ea958eed0cb07c719c694",
        "collapsed": true,
        "trusted": true
      },
      "cell_type": "code",
      "source": "col = [c for c in games2.columns if c not in ['ID', 'Season', 'Team1', 'Team2','IDTeams','IDTeam1','IDTeam2','Pred','DayNum', 'WTeamID', 'WScore', 'LTeamID', 'LScore', 'WLoc', 'NumOT', 'ScoreDiff', 'Team1NetRtg','Team2NetRtg','Team1Seed','Team2Seed','Team1PIE','Team2PIE']]\n\nmodel = xgb.XGBRegressor()\nmodel.fit(games2[col],games2['Pred'])\nsub2['Pred'] = model.predict(sub2[col])\nsub2[['ID','Pred']].to_csv('rh3p_submission.csv', index=False)",
      "execution_count": 23,
      "outputs": []
    },
    {
      "metadata": {
        "_cell_guid": "42e07fed-5d9b-4c0a-889d-a8ced81de050",
        "_uuid": "82aaf7020687e5be574e9ec1421f607b187db7fd",
        "trusted": true
      },
      "cell_type": "code",
      "source": "sub2[col].head()",
      "execution_count": 28,
      "outputs": [
        {
          "data": {
            "text/html": "<div>\n<style>\n    .dataframe thead tr:only-child th {\n        text-align: right;\n    }\n\n    .dataframe thead th {\n        text-align: left;\n    }\n\n    .dataframe tbody tr th {\n        vertical-align: top;\n    }\n</style>\n<table border=\"1\" class=\"dataframe\">\n  <thead>\n    <tr style=\"text-align: right;\">\n      <th></th>\n      <th>SeedDiff</th>\n      <th>PIEDiff</th>\n      <th>NetRtgDiff</th>\n    </tr>\n  </thead>\n  <tbody>\n    <tr>\n      <th>0</th>\n      <td>-5.0</td>\n      <td>0.446868</td>\n      <td>67.589816</td>\n    </tr>\n    <tr>\n      <th>1</th>\n      <td>9.0</td>\n      <td>-0.101144</td>\n      <td>-19.148904</td>\n    </tr>\n    <tr>\n      <th>2</th>\n      <td>-5.0</td>\n      <td>0.032381</td>\n      <td>-1.387608</td>\n    </tr>\n    <tr>\n      <th>3</th>\n      <td>-5.0</td>\n      <td>-0.103134</td>\n      <td>-19.625912</td>\n    </tr>\n    <tr>\n      <th>4</th>\n      <td>-5.0</td>\n      <td>0.242731</td>\n      <td>23.493095</td>\n    </tr>\n  </tbody>\n</table>\n</div>",
            "text/plain": "   SeedDiff   PIEDiff  NetRtgDiff\n0      -5.0  0.446868   67.589816\n1       9.0 -0.101144  -19.148904\n2      -5.0  0.032381   -1.387608\n3      -5.0 -0.103134  -19.625912\n4      -5.0  0.242731   23.493095"
          },
          "execution_count": 28,
          "metadata": {},
          "output_type": "execute_result"
        }
      ]
    },
    {
      "metadata": {
        "_cell_guid": "be650dee-8bff-42de-bdf0-9f3f9bff8570",
        "_uuid": "75c665d5e436fc30eda09ceb4006cf09a179883d",
        "trusted": true
      },
      "cell_type": "code",
      "source": "len(sub2)",
      "execution_count": 25,
      "outputs": [
        {
          "data": {
            "text/plain": "9112"
          },
          "execution_count": 25,
          "metadata": {},
          "output_type": "execute_result"
        }
      ]
    },
    {
      "metadata": {
        "_cell_guid": "ddecb7e6-8ef3-4c42-8570-6f679cb83d11",
        "_uuid": "a7a4960c38c5ec8e1e9b3b6364c9a2740690d1f3"
      },
      "cell_type": "markdown",
      "source": "# TrueSkill is a rating system based on Bayesian inference, estimating each players skill as a gaussian like Elo rating.\n# See trueskill.org for more.\n\nimport pandas as pd, numpy as np\nfrom trueskill import TrueSkill, Rating, rate_1vs1\n\nts = TrueSkill(draw_probability=0.01) # 0.01 is arbitary small number\nbeta = 25 / 6  # default value\n\ndef win_probability(p1, p2):\n    delta_mu = p1.mu - p2.mu\n    sum_sigma = p1.sigma * p1.sigma + p2.sigma * p2.sigma\n    denom = np.sqrt(2 * (beta * beta) + sum_sigma)\n    return ts.cdf(delta_mu / denom)\n    \nsubmit = pd.read_csv('../input/SampleSubmissionStage1.csv')\nsubmit[['Season', 'Team1', 'Team2']] = submit.apply(lambda r:pd.Series([int(t) for t in r.ID.split('_')]), axis=1)\n\ndf_tour = pd.read_csv('../input/RegularSeasonCompactResults.csv')\nteamIds = np.unique(np.concatenate([df_tour.WTeamID.values, df_tour.LTeamID.values]))\nratings = { tid:ts.Rating() for tid in teamIds }\n\ndef feed_season_results(season):\n    print(\"season = {}\".format(season))\n    df1 = df_tour[df_tour.Season == season]\n    for r in df1.itertuples():\n        ratings[r.WTeamID], ratings[r.LTeamID] = rate_1vs1(ratings[r.WTeamID], ratings[r.LTeamID])\n\ndef update_pred(season):\n    beta = np.std([r.mu for r in ratings.values()]) \n    print(\"beta = {}\".format(beta))\n    submit.loc[submit.Season==season, 'Pred'] = submit[submit.Season==season].apply(lambda r:win_probability(ratings[r.Team1], ratings[r.Team2]), axis=1)\n\nfor season in sorted(df_tour.Season.unique())[:-4]: # exclude last 4 years\n    feed_season_results(season)\n\nupdate_pred(2014)\nfeed_season_results(2014)\nupdate_pred(2015)\nfeed_season_results(2015)\nupdate_pred(2016)\nfeed_season_results(2016)\nupdate_pred(2017)\n\nsubmit.drop(['Season', 'Team1', 'Team2'], axis=1, inplace=True)\nsubmit.to_csv('trueskill_estimation.csv', index=None)"
    }
  ],
  "metadata": {
    "kernelspec": {
      "display_name": "Python 3",
      "language": "python",
      "name": "python3"
    },
    "language_info": {
      "codemirror_mode": {
        "name": "ipython",
        "version": 3
      },
      "file_extension": ".py",
      "mimetype": "text/x-python",
      "name": "python",
      "nbconvert_exporter": "python",
      "pygments_lexer": "ipython3",
      "version": "3.6.4"
    }
  },
  "nbformat": 4,
  "nbformat_minor": 1
}